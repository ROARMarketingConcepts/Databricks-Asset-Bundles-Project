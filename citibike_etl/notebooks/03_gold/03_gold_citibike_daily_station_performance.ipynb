{
 "cells": [
  {
   "cell_type": "code",
   "execution_count": 1,
   "id": "02f7b617",
   "metadata": {},
   "outputs": [],
   "source": [
    "from pyspark.sql.functions import avg, count, round"
   ]
  },
  {
   "cell_type": "code",
   "execution_count": 2,
   "id": "69cd95da",
   "metadata": {},
   "outputs": [],
   "source": [
    "def get_widget_or_default(name, default):\n",
    "    try:\n",
    "        return dbutils.widgets.get(name)\n",
    "    except Exception:\n",
    "        return default\n",
    "\n",
    "catalog = get_widget_or_default(\"catalog\", \"citibike_dev\")"
   ]
  },
  {
   "cell_type": "code",
   "execution_count": 3,
   "id": "f24fd298",
   "metadata": {},
   "outputs": [],
   "source": [
    "df = spark.read.table(f\"{catalog}.02_silver.jc_citibike\")"
   ]
  },
  {
   "cell_type": "code",
   "execution_count": 4,
   "id": "a9a94ee6",
   "metadata": {},
   "outputs": [],
   "source": [
    "\n",
    "df = df.\\\n",
    "    groupBy(\"trip_start_date\", \"start_station_name\").\\\n",
    "    agg(\n",
    "    round(avg(\"trip_duration_mins\"),2).alias(\"avg_trip_duration_mins\"),\n",
    "    count(\"ride_id\").alias(\"total_trips\")\n",
    "    )"
   ]
  },
  {
   "cell_type": "code",
   "execution_count": 5,
   "id": "80b51ac1",
   "metadata": {},
   "outputs": [
    {
     "data": {
      "application/vnd.jupyter.widget-view+json": {
       "model_id": "b3657e64ae1b4952af70adb3135f4bf0",
       "version_major": 2,
       "version_minor": 0
      },
      "text/plain": [
       "HBox(children=(IntProgress(value=0, bar_style='success'), Label(value='')))"
      ]
     },
     "metadata": {},
     "output_type": "display_data"
    }
   ],
   "source": [
    "df.write.\\\n",
    "    mode(\"overwrite\").\\\n",
    "    option(\"overwriteSchema\", \"true\").\\\n",
    "    saveAsTable(f\"{catalog}.03_gold.daily_station_performance\")"
   ]
  }
 ],
 "metadata": {
  "kernelspec": {
   "display_name": ".venv_dbc",
   "language": "python",
   "name": "python3"
  },
  "language_info": {
   "codemirror_mode": {
    "name": "ipython",
    "version": 3
   },
   "file_extension": ".py",
   "mimetype": "text/x-python",
   "name": "python",
   "nbconvert_exporter": "python",
   "pygments_lexer": "ipython3",
   "version": "3.12.11"
  }
 },
 "nbformat": 4,
 "nbformat_minor": 5
}
