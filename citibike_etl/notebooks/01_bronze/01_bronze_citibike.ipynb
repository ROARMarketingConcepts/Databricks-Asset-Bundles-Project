{
 "cells": [
  {
   "cell_type": "code",
   "execution_count": 1,
   "metadata": {},
   "outputs": [],
   "source": [
    "from pyspark.sql.types import StructType, StructField, StringType, DecimalType, TimestampType\n",
    "from pyspark.sql.functions import create_map, lit"
   ]
  },
  {
   "cell_type": "code",
   "execution_count": 2,
   "metadata": {},
   "outputs": [],
   "source": [
    "# Databricks notebook source\n",
    "\n",
    "def get_widget_or_default(name, default):\n",
    "    try:\n",
    "        return dbutils.widgets.get(name)\n",
    "    except Exception:\n",
    "        return default\n",
    "\n",
    "pipeline_id = get_widget_or_default(\"pipeline_id\", \"default_pipeline\")\n",
    "run_id = get_widget_or_default(\"run_id\", \"default_run\")\n",
    "task_id = get_widget_or_default(\"task_id\", \"default_task\")\n",
    "processed_timestamp = get_widget_or_default(\"processed_timestamp\", \"2025-07-22T00:00:00Z\")\n",
    "catalog = get_widget_or_default(\"catalog\", \"main\")\n",
    "\n",
    "\n",
    "# pipeline_id = dbutils.widgets.get(\"pipeline_id\")\n",
    "# run_id = dbutils.widgets.get(\"run_id\")\n",
    "# task_id = dbutils.widgets.get(\"task_id\")\n",
    "# processed_timestamp = dbutils.widgets.get(\"processed_timestamp\")\n",
    "# catalog = dbutils.widgets.get(\"catalog\")"
   ]
  },
  {
   "cell_type": "code",
   "execution_count": 3,
   "metadata": {},
   "outputs": [],
   "source": [
    "schema = StructType([\n",
    "    StructField(\"ride_id\", StringType(), True),\n",
    "    StructField(\"rideable_type\", StringType(), True),\n",
    "    StructField(\"started_at\", TimestampType(), True),\n",
    "    StructField(\"ended_at\", TimestampType(), True),\n",
    "    StructField(\"start_station_name\", StringType(), True), \n",
    "    StructField(\"start_station_id\", StringType(), True),   \n",
    "    StructField(\"end_station_name\", StringType(), True), \n",
    "    StructField(\"end_station_id\", StringType(), True), \n",
    "    StructField(\"start_lat\", DecimalType(), True), \n",
    "    StructField(\"start_lng\", DecimalType(), True), \n",
    "    StructField(\"end_lat\", DecimalType(), True), \n",
    "    StructField(\"end_lng\", DecimalType(), True), \n",
    "    StructField(\"member_casual\", StringType(), True), \n",
    "])"
   ]
  },
  {
   "cell_type": "code",
   "execution_count": 4,
   "metadata": {},
   "outputs": [],
   "source": [
    "df = spark.read.csv(f\"/Volumes/citibike_dev/00_landing/source_citibike_data/JC-202503-citibike-tripdata.csv\", schema=schema, header=True)"
   ]
  },
  {
   "cell_type": "code",
   "execution_count": 5,
   "metadata": {},
   "outputs": [
    {
     "data": {
      "application/vnd.jupyter.widget-view+json": {
       "model_id": "649015a3ce1240d884d39125d8cbc0c6",
       "version_major": 2,
       "version_minor": 0
      },
      "text/plain": [
       "HBox(children=(IntProgress(value=0, bar_style='success'), Label(value='')))"
      ]
     },
     "metadata": {},
     "output_type": "display_data"
    },
    {
     "name": "stdout",
     "output_type": "stream",
     "text": [
      "+----------------+-------------+--------------------+--------------------+------------------+----------------+--------------------+--------------+---------+---------+-------+-------+-------------+\n",
      "|         ride_id|rideable_type|          started_at|            ended_at|start_station_name|start_station_id|    end_station_name|end_station_id|start_lat|start_lng|end_lat|end_lng|member_casual|\n",
      "+----------------+-------------+--------------------+--------------------+------------------+----------------+--------------------+--------------+---------+---------+-------+-------+-------------+\n",
      "|29DAF43DD84B4B7A|electric_bike|2025-03-20 18:58:...|2025-03-20 19:00:...|   6 St & Grand St|           HB302|Mama Johnson Fiel...|         HB404|       41|      -74|     41|    -74|       member|\n",
      "|B11B4220F7195025|electric_bike|2025-03-29 11:01:...|2025-03-29 11:11:...|  Heights Elevator|           JC059|        Jersey & 3rd|         JC074|       41|      -74|     41|    -74|       member|\n",
      "|18D5B30305F602B9|electric_bike|2025-03-01 16:05:...|2025-03-01 16:07:...|      Jersey & 3rd|           JC074|       Hamilton Park|         JC009|       41|      -74|     41|    -74|       member|\n",
      "|532EB2D9DB68567D|electric_bike|2025-03-21 18:44:...|2025-03-21 18:51:...|      Jersey & 3rd|           JC074|     Jersey & 6th St|         JC027|       41|      -74|     41|    -74|       member|\n",
      "|EA7C9C945D7D57AA|electric_bike|2025-03-20 11:08:...|2025-03-20 11:12:...|   6 St & Grand St|           HB302|   Madison St & 1 St|         HB402|       41|      -74|     41|    -74|       member|\n",
      "|DA232FF47222E86C| classic_bike|2025-03-13 11:11:...|2025-03-13 11:15:...|   6 St & Grand St|           HB302|   Madison St & 1 St|         HB402|       41|      -74|     41|    -74|       member|\n",
      "|416547516DE5132F|electric_bike|2025-03-28 21:51:...|2025-03-28 21:57:...|           Hilltop|           JC019| Leonard Gordon Park|         JC080|       41|      -74|     41|    -74|       member|\n",
      "|E25EDA33910F90F0|electric_bike|2025-03-13 18:21:...|2025-03-13 18:26:...|           Hilltop|           JC019| Leonard Gordon Park|         JC080|       41|      -74|     41|    -74|       member|\n",
      "|D209FF2521E26D16| classic_bike|2025-03-01 14:59:...|2025-03-01 15:06:...|    Jackson Square|           JC063|          Bergen Ave|         JC095|       41|      -74|     41|    -74|       member|\n",
      "|BC9F0D06A5AFF751|electric_bike|2025-03-04 09:55:...|2025-03-04 09:59:...|   6 St & Grand St|           HB302|Southwest Park - ...|         HB401|       41|      -74|     41|    -74|       member|\n",
      "|7DD3A6B5272F27F5|electric_bike|2025-03-05 07:46:...|2025-03-05 07:51:...|   6 St & Grand St|           HB302|Southwest Park - ...|         HB401|       41|      -74|     41|    -74|       member|\n",
      "|EBC8115E0E51D260|electric_bike|2025-03-22 10:44:...|2025-03-22 10:47:...|   6 St & Grand St|           HB302|Clinton St & Newa...|         HB409|       41|      -74|     41|    -74|       member|\n",
      "|8E81A7E630ACC8A3|electric_bike|2025-03-20 18:46:...|2025-03-20 18:52:...|   Christ Hospital|           JC034|    Heights Elevator|         JC059|       41|      -74|     41|    -74|       casual|\n",
      "|C3C27AC1CE0191D8|electric_bike|2025-03-28 12:45:...|2025-03-28 12:50:...|           Hilltop|           JC019|     Christ Hospital|         JC034|       41|      -74|     41|    -74|       casual|\n",
      "|31A0007D2C09136A|electric_bike|2025-03-03 16:29:...|2025-03-03 16:38:...|    Columbus Drive|           JC014|Baldwin at Montgo...|         JC020|       41|      -74|     41|    -74|       casual|\n",
      "|696F0B0FACBB2EB1|electric_bike|2025-03-14 08:04:...|2025-03-14 08:11:...|   Christ Hospital|           JC034|      Journal Square|         JC103|       41|      -74|     41|    -74|       member|\n",
      "|2F9A9DFC0B5FDC8B|electric_bike|2025-03-04 08:10:...|2025-03-04 08:17:...|   Christ Hospital|           JC034|      Journal Square|         JC103|       41|      -74|     41|    -74|       member|\n",
      "|6CDBFDD599F49010| classic_bike|2025-03-01 15:27:...|2025-03-01 15:41:...|   Christ Hospital|           JC034|      Journal Square|         JC103|       41|      -74|     41|    -74|       member|\n",
      "|40C1173521E0136C|electric_bike|2025-03-12 21:22:...|2025-03-12 21:30:...|    Jackson Square|           JC063|Bergen Ave & Sip Ave|         JC109|       41|      -74|     41|    -74|       member|\n",
      "|BEFCB12738E44387|electric_bike|2025-03-26 14:03:...|2025-03-26 14:10:...|    Jackson Square|           JC063|        Glenwood Ave|         JC094|       41|      -74|     41|    -74|       member|\n",
      "+----------------+-------------+--------------------+--------------------+------------------+----------------+--------------------+--------------+---------+---------+-------+-------+-------------+\n",
      "only showing top 20 rows\n"
     ]
    }
   ],
   "source": [
    "df.show()"
   ]
  },
  {
   "cell_type": "code",
   "execution_count": 6,
   "metadata": {},
   "outputs": [],
   "source": [
    "df = df.withColumn(\"metadata\", \n",
    "              create_map(\n",
    "                  lit(\"pipeline_id\"), lit(pipeline_id),\n",
    "                  lit(\"run_id\"), lit(run_id),\n",
    "                  lit(\"task_id\"), lit(task_id),\n",
    "                  lit(\"processed_timestamp\"), lit(processed_timestamp)\n",
    "                  ))"
   ]
  },
  {
   "cell_type": "code",
   "execution_count": 7,
   "metadata": {},
   "outputs": [
    {
     "data": {
      "application/vnd.jupyter.widget-view+json": {
       "model_id": "e347e89385824fd1b4230b1f70a2409f",
       "version_major": 2,
       "version_minor": 0
      },
      "text/plain": [
       "HBox(children=(IntProgress(value=0, bar_style='success'), Label(value='')))"
      ]
     },
     "metadata": {},
     "output_type": "display_data"
    }
   ],
   "source": [
    "# df.write.\\\n",
    "#     mode(\"overwrite\").\\\n",
    "#     option(\"overwriteSchema\", \"true\").\\\n",
    "#     saveAsTable(f\"{catalog}.01_bronze.jc_citibike\")\n",
    "\n",
    "df.write.\\\n",
    "    mode(\"overwrite\").\\\n",
    "    option(\"overwriteSchema\", \"true\").\\\n",
    "    saveAsTable(\"citibike_dev.01_bronze.jc_citibike\")"
   ]
  }
 ],
 "metadata": {
  "kernelspec": {
   "display_name": ".venv_dbc",
   "language": "python",
   "name": "python3"
  },
  "language_info": {
   "codemirror_mode": {
    "name": "ipython",
    "version": 3
   },
   "file_extension": ".py",
   "mimetype": "text/x-python",
   "name": "python",
   "nbconvert_exporter": "python",
   "pygments_lexer": "ipython3",
   "version": "3.12.11"
  }
 },
 "nbformat": 4,
 "nbformat_minor": 2
}
